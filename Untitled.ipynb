{
 "cells": [
  {
   "cell_type": "markdown",
   "id": "092756a4",
   "metadata": {},
   "source": [
    "rename target column to heart deiseas\n",
    "df_heart = df_heart.rename(columns = {'target': 'heart_diseas'})"
   ]
  },
  {
   "cell_type": "raw",
   "id": "fe71ce62",
   "metadata": {},
   "source": [
    "#separate discret from cont\n",
    "discrete = []\n",
    "numerical = []\n",
    "for column in df_heart.columns:\n",
    "    if df_heart[column].nuniquea()< 10;\n",
    "        discrete.append(column)\n",
    "    else:\n",
    "        numerical.append(column)"
   ]
  },
  {
   "cell_type": "markdown",
   "id": "1b18db4c",
   "metadata": {},
   "source": [
    "df_heart[numerical].plot.box(figsize=(12,8))"
   ]
  },
  {
   "cell_type": "raw",
   "id": "8393eca8",
   "metadata": {},
   "source": [
    "#binning\n",
    "le = labelEncoder()\n",
    "for column in numerical[:-1]:\n",
    "df_heart[column] = pd.qcut(df_heart[column], q = [0,.25,.50,1])\n",
    "df_heart[column] =le.fit_transform(df_heart[column])"
   ]
  },
  {
   "cell_type": "markdown",
   "id": "d631f9fa",
   "metadata": {},
   "source": [
    "select target and feature as x andy\n",
    "chi2best feature selection techniqu\n",
    "#import chi2\n",
    "chi2_check = []\n",
    "for i in x.columns;\n",
    "if chi2_contingency(pd.crosstab(df_heart['heart'], df_heart[i]))[1] < 0.05;\n",
    "chi2_check.append('reject null hypothesis)\n",
    "else:\n",
    "    che2_check.append('fail to reject null hypothesis')\n",
    "res = pd.DAtaFrame(data = [x.columns, chi2_check]).T\n",
    "res.columns = ['Column', 'Hypothesis']\n",
    "PRINT(res)\n"
   ]
  },
  {
   "cell_type": "markdown",
   "id": "c11a7160",
   "metadata": {},
   "source": [
    "train the model\n",
    "X_selected x[res['Hypotehsis'] == 'reject null hypothesis']['column']]\n",
    " ###### oversample for smaller sizes of data"
   ]
  }
 ],
 "metadata": {
  "kernelspec": {
   "display_name": "Python 3",
   "language": "python",
   "name": "python3"
  },
  "language_info": {
   "codemirror_mode": {
    "name": "ipython",
    "version": 3
   },
   "file_extension": ".py",
   "mimetype": "text/x-python",
   "name": "python",
   "nbconvert_exporter": "python",
   "pygments_lexer": "ipython3",
   "version": "3.8.8"
  }
 },
 "nbformat": 4,
 "nbformat_minor": 5
}
